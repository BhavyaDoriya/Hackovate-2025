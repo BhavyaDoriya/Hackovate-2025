{
 "cells": [
  {
   "cell_type": "code",
   "execution_count": 226,
   "id": "520ce6a3-bcd7-4891-a844-9f85191a7e35",
   "metadata": {},
   "outputs": [
    {
     "name": "stderr",
     "output_type": "stream",
     "text": [
      "C:\\Users\\BHAVYA\\AppData\\Local\\Temp\\ipykernel_21416\\1227142004.py:27: FutureWarning:\n",
      "\n",
      "A value is trying to be set on a copy of a DataFrame or Series through chained assignment using an inplace method.\n",
      "The behavior will change in pandas 3.0. This inplace method will never work because the intermediate object on which we are setting values always behaves as a copy.\n",
      "\n",
      "For example, when doing 'df[col].method(value, inplace=True)', try using 'df.method({col: value}, inplace=True)' or df[col] = df[col].method(value) instead, to perform the operation inplace on the original object.\n",
      "\n",
      "\n",
      "\n"
     ]
    },
    {
     "name": "stdout",
     "output_type": "stream",
     "text": [
      "['Formatted Date', 'Temperature (C)', 'Apparent Temperature (C)', 'Humidity', 'Wind Speed (km/h)', 'Wind Bearing (degrees)', 'Visibility (km)', 'Pressure (millibars)', 'thunderstorm', 'Precip Type_snow']\n",
      "<class 'pandas.core.frame.DataFrame'>\n",
      "RangeIndex: 96453 entries, 0 to 96452\n",
      "Data columns (total 10 columns):\n",
      " #   Column                    Non-Null Count  Dtype  \n",
      "---  ------                    --------------  -----  \n",
      " 0   Formatted Date            96453 non-null  object \n",
      " 1   Temperature (C)           96453 non-null  float64\n",
      " 2   Apparent Temperature (C)  96453 non-null  float64\n",
      " 3   Humidity                  96453 non-null  float64\n",
      " 4   Wind Speed (km/h)         96453 non-null  float64\n",
      " 5   Wind Bearing (degrees)    96453 non-null  float64\n",
      " 6   Visibility (km)           96453 non-null  float64\n",
      " 7   Pressure (millibars)      96453 non-null  float64\n",
      " 8   thunderstorm              96453 non-null  int64  \n",
      " 9   Precip Type_snow          96453 non-null  bool   \n",
      "dtypes: bool(1), float64(7), int64(1), object(1)\n",
      "memory usage: 6.7+ MB\n",
      "None\n",
      "thunderstorm\n",
      "0    96205\n",
      "1      248\n",
      "Name: count, dtype: int64\n"
     ]
    }
   ],
   "source": [
    "\n",
    "# Import libraries\n",
    "import pandas as pd\n",
    "import numpy as np\n",
    "import matplotlib.pyplot as plt\n",
    "import seaborn as sns\n",
    "import plotly.express as px\n",
    "\n",
    "# Read CSV\n",
    "df = pd.read_csv(\"../data/weatherHistory.csv\")\n",
    "\n",
    "# Strip column names to remove extra spaces\n",
    "df.columns = df.columns.str.strip()\n",
    "\n",
    "# Create thunderstorm column (synthetic)\n",
    "df['thunderstorm'] = np.where(\n",
    "    (df['Humidity'] > 0.85) & \n",
    "    (df['Wind Speed (km/h)'] > 25) & \n",
    "    (df['Pressure (millibars)'] < 1005),\n",
    "    1, 0\n",
    ")\n",
    "\n",
    "# Drop unnecessary columns\n",
    "df = df.drop(columns=['Summary', 'Daily Summary', 'Loud Cover'], errors='ignore')\n",
    "\n",
    "# Fill missing values in 'Precip Type' with mode\n",
    "if 'Precip Type' in df.columns:\n",
    "    df['Precip Type'].fillna(df['Precip Type'].mode()[0], inplace=True)\n",
    "    # One-hot encode\n",
    "    df = pd.get_dummies(df, columns=['Precip Type'], drop_first=True)\n",
    "\n",
    "# Display basic info\n",
    "print(df.columns.tolist())\n",
    "print(df.info())\n",
    "\n",
    "# Quick check of thunderstorm counts\n",
    "print(df['thunderstorm'].value_counts())\n"
   ]
  },
  {
   "cell_type": "code",
   "execution_count": 227,
   "id": "f08a8948-d8e0-4a6c-8627-23b21c46f06d",
   "metadata": {},
   "outputs": [
    {
     "data": {
      "text/plain": [
       "np.int64(248)"
      ]
     },
     "execution_count": 227,
     "metadata": {},
     "output_type": "execute_result"
    }
   ],
   "source": [
    " (df['thunderstorm'] == 1).sum()"
   ]
  },
  {
   "cell_type": "code",
   "execution_count": 228,
   "id": "7247fdd0-9537-403b-b7c6-e01d1d84e30f",
   "metadata": {},
   "outputs": [
    {
     "ename": "AttributeError",
     "evalue": "Can only use .dt accessor with datetimelike values",
     "output_type": "error",
     "traceback": [
      "\u001b[31m---------------------------------------------------------------------------\u001b[39m",
      "\u001b[31mAttributeError\u001b[39m                            Traceback (most recent call last)",
      "\u001b[36mCell\u001b[39m\u001b[36m \u001b[39m\u001b[32mIn[228]\u001b[39m\u001b[32m, line 2\u001b[39m\n\u001b[32m      1\u001b[39m \u001b[38;5;66;03m# Make sure year column exists\u001b[39;00m\n\u001b[32m----> \u001b[39m\u001b[32m2\u001b[39m df[\u001b[33m'\u001b[39m\u001b[33myear\u001b[39m\u001b[33m'\u001b[39m] = \u001b[43mdf\u001b[49m\u001b[43m[\u001b[49m\u001b[33;43m'\u001b[39;49m\u001b[33;43mFormatted Date\u001b[39;49m\u001b[33;43m'\u001b[39;49m\u001b[43m]\u001b[49m\u001b[43m.\u001b[49m\u001b[43mdt\u001b[49m.year\n\u001b[32m      4\u001b[39m \u001b[38;5;66;03m# Train: 2006-2012 (inclusive)\u001b[39;00m\n\u001b[32m      5\u001b[39m train_df = df[(df[\u001b[33m'\u001b[39m\u001b[33myear\u001b[39m\u001b[33m'\u001b[39m] >= \u001b[32m2006\u001b[39m) & (df[\u001b[33m'\u001b[39m\u001b[33myear\u001b[39m\u001b[33m'\u001b[39m] <= \u001b[32m2012\u001b[39m)]\n",
      "\u001b[36mFile \u001b[39m\u001b[32m~\\AppData\\Local\\Programs\\Python\\Python313\\Lib\\site-packages\\pandas\\core\\generic.py:6318\u001b[39m, in \u001b[36mNDFrame.__getattr__\u001b[39m\u001b[34m(self, name)\u001b[39m\n\u001b[32m   6311\u001b[39m \u001b[38;5;28;01mif\u001b[39;00m (\n\u001b[32m   6312\u001b[39m     name \u001b[38;5;129;01mnot\u001b[39;00m \u001b[38;5;129;01min\u001b[39;00m \u001b[38;5;28mself\u001b[39m._internal_names_set\n\u001b[32m   6313\u001b[39m     \u001b[38;5;129;01mand\u001b[39;00m name \u001b[38;5;129;01mnot\u001b[39;00m \u001b[38;5;129;01min\u001b[39;00m \u001b[38;5;28mself\u001b[39m._metadata\n\u001b[32m   6314\u001b[39m     \u001b[38;5;129;01mand\u001b[39;00m name \u001b[38;5;129;01mnot\u001b[39;00m \u001b[38;5;129;01min\u001b[39;00m \u001b[38;5;28mself\u001b[39m._accessors\n\u001b[32m   6315\u001b[39m     \u001b[38;5;129;01mand\u001b[39;00m \u001b[38;5;28mself\u001b[39m._info_axis._can_hold_identifiers_and_holds_name(name)\n\u001b[32m   6316\u001b[39m ):\n\u001b[32m   6317\u001b[39m     \u001b[38;5;28;01mreturn\u001b[39;00m \u001b[38;5;28mself\u001b[39m[name]\n\u001b[32m-> \u001b[39m\u001b[32m6318\u001b[39m \u001b[38;5;28;01mreturn\u001b[39;00m \u001b[38;5;28;43mobject\u001b[39;49m\u001b[43m.\u001b[49m\u001b[34;43m__getattribute__\u001b[39;49m\u001b[43m(\u001b[49m\u001b[38;5;28;43mself\u001b[39;49m\u001b[43m,\u001b[49m\u001b[43m \u001b[49m\u001b[43mname\u001b[49m\u001b[43m)\u001b[49m\n",
      "\u001b[36mFile \u001b[39m\u001b[32m~\\AppData\\Local\\Programs\\Python\\Python313\\Lib\\site-packages\\pandas\\core\\accessor.py:224\u001b[39m, in \u001b[36mCachedAccessor.__get__\u001b[39m\u001b[34m(self, obj, cls)\u001b[39m\n\u001b[32m    221\u001b[39m \u001b[38;5;28;01mif\u001b[39;00m obj \u001b[38;5;129;01mis\u001b[39;00m \u001b[38;5;28;01mNone\u001b[39;00m:\n\u001b[32m    222\u001b[39m     \u001b[38;5;66;03m# we're accessing the attribute of the class, i.e., Dataset.geo\u001b[39;00m\n\u001b[32m    223\u001b[39m     \u001b[38;5;28;01mreturn\u001b[39;00m \u001b[38;5;28mself\u001b[39m._accessor\n\u001b[32m--> \u001b[39m\u001b[32m224\u001b[39m accessor_obj = \u001b[38;5;28;43mself\u001b[39;49m\u001b[43m.\u001b[49m\u001b[43m_accessor\u001b[49m\u001b[43m(\u001b[49m\u001b[43mobj\u001b[49m\u001b[43m)\u001b[49m\n\u001b[32m    225\u001b[39m \u001b[38;5;66;03m# Replace the property with the accessor object. Inspired by:\u001b[39;00m\n\u001b[32m    226\u001b[39m \u001b[38;5;66;03m# https://www.pydanny.com/cached-property.html\u001b[39;00m\n\u001b[32m    227\u001b[39m \u001b[38;5;66;03m# We need to use object.__setattr__ because we overwrite __setattr__ on\u001b[39;00m\n\u001b[32m    228\u001b[39m \u001b[38;5;66;03m# NDFrame\u001b[39;00m\n\u001b[32m    229\u001b[39m \u001b[38;5;28mobject\u001b[39m.\u001b[34m__setattr__\u001b[39m(obj, \u001b[38;5;28mself\u001b[39m._name, accessor_obj)\n",
      "\u001b[36mFile \u001b[39m\u001b[32m~\\AppData\\Local\\Programs\\Python\\Python313\\Lib\\site-packages\\pandas\\core\\indexes\\accessors.py:643\u001b[39m, in \u001b[36mCombinedDatetimelikeProperties.__new__\u001b[39m\u001b[34m(cls, data)\u001b[39m\n\u001b[32m    640\u001b[39m \u001b[38;5;28;01melif\u001b[39;00m \u001b[38;5;28misinstance\u001b[39m(data.dtype, PeriodDtype):\n\u001b[32m    641\u001b[39m     \u001b[38;5;28;01mreturn\u001b[39;00m PeriodProperties(data, orig)\n\u001b[32m--> \u001b[39m\u001b[32m643\u001b[39m \u001b[38;5;28;01mraise\u001b[39;00m \u001b[38;5;167;01mAttributeError\u001b[39;00m(\u001b[33m\"\u001b[39m\u001b[33mCan only use .dt accessor with datetimelike values\u001b[39m\u001b[33m\"\u001b[39m)\n",
      "\u001b[31mAttributeError\u001b[39m: Can only use .dt accessor with datetimelike values"
     ]
    }
   ],
   "source": [
    "# Make sure year column exists\n",
    "df['year'] = df['Formatted Date'].dt.year\n",
    "\n",
    "# Train: 2006-2012 (inclusive)\n",
    "train_df = df[(df['year'] >= 2006) & (df['year'] <= 2012)]\n",
    "\n",
    "# Validation: 2012-2014\n",
    "val_df = df[(df['year'] > 2012) & (df['year'] <= 2014)]\n",
    "\n",
    "# Test: 2014-2016\n",
    "test_df = df[(df['year'] > 2014) & (df['year'] <= 2016)]\n",
    "\n",
    "# Quick checks\n",
    "print(\"Train:\", train_df.shape)\n",
    "print(\"Validation:\", val_df.shape)\n",
    "print(\"Test:\", test_df.shape)\n"
   ]
  },
  {
   "cell_type": "code",
   "execution_count": null,
   "id": "380d71a7-476a-403a-889d-df2c4092623f",
   "metadata": {},
   "outputs": [],
   "source": [
    "# Strip column names to avoid hidden spaces\n",
    "df.columns = df.columns.str.strip()\n",
    "\n",
    "# Check the exact column name\n",
    "print(df.columns)\n",
    "\n",
    "# Convert 'Formatted Date' to datetime\n",
    "df['Formatted Date'] = pd.to_datetime(df['Formatted Date'], errors='coerce')\n",
    "\n",
    "# Optional: check if any rows failed conversion\n",
    "print(df['Formatted Date'].isna().sum(), \"rows could not be converted\")\n",
    "\n",
    "# Now extract features\n",
    "df['year'] = df['Formatted Date'].dt.year\n",
    "df['month'] = df['Formatted Date'].dt.month\n",
    "df['day'] = df['Formatted Date'].dt.day\n",
    "df['hour'] = df['Formatted Date'].dt.hour\n",
    "\n",
    "# Quick check\n",
    "df[['Formatted Date', 'year', 'month', 'day', 'hour']].head()\n",
    "df"
   ]
  },
  {
   "cell_type": "code",
   "execution_count": null,
   "id": "e5094096-f18b-4dcf-8ae3-542949ca0b23",
   "metadata": {},
   "outputs": [],
   "source": [
    "fig=px.histogram(df,x=\"year\",nbins=11)\n",
    "fig.update_layout(bargap=0.1)\n",
    "fig.show()"
   ]
  },
  {
   "cell_type": "code",
   "execution_count": null,
   "id": "d2f238b3-5baf-451e-b9d3-9d35d997ba9b",
   "metadata": {},
   "outputs": [],
   "source": [
    "# Shift targets to represent \"next hour\"\n",
    "train_df['Wind_Speed_next_hour'] = df['Wind Speed (km/h)'].shift(-1)\n",
    "train_df['Thunderstorm_next_hour'] = df['thunderstorm'].shift(-1)\n",
    "test_df['Wind_Speed_next_hour'] = df['Wind Speed (km/h)'].shift(-1)\n",
    "test_df['Thunderstorm_next_hour'] = df['thunderstorm'].shift(-1)\n",
    "val_df['Wind_Speed_next_hour'] = df['Wind Speed (km/h)'].shift(-1)\n",
    "val_df['Thunderstorm_next_hour'] = df['thunderstorm'].shift(-1)\n"
   ]
  },
  {
   "cell_type": "code",
   "execution_count": null,
   "id": "20bf5066-16b5-4a44-a540-551c72a1fe21",
   "metadata": {},
   "outputs": [],
   "source": [
    "test_df"
   ]
  },
  {
   "cell_type": "code",
   "execution_count": null,
   "id": "c6750a5e-e5b4-4dac-80c4-f3c4a7f9b4b5",
   "metadata": {},
   "outputs": [],
   "source": [
    "# Previous hour values\n",
    "train_df['Wind_Speed_prev_1h'] = train_df['Wind Speed (km/h)'].shift(1)\n",
    "train_df['Temperature_prev_1h'] = train_df['Temperature (C)'].shift(1)\n",
    "train_df['Humidity_prev_1h'] = train_df['Humidity'].shift(1)\n",
    "train_df['Pressure_prev_1h'] = train_df['Pressure (millibars)'].shift(1)\n",
    "train_df['Thunderstorm_prev_1h'] = train_df['thunderstorm'].shift(1)\n",
    "# Rolling mean of last 3 hours\n",
    "train_df['Wind_Speed_roll3h'] = train_df['Wind Speed (km/h)'].shift(1).rolling(3).mean()\n",
    "train_df['Temperature_roll3h'] = train_df['Temperature (C)'].shift(1).rolling(3).mean()\n",
    "# Hour\n",
    "train_df['hour_sin'] = np.sin(2 * np.pi * train_df['hour']/24)\n",
    "train_df['hour_cos'] = np.cos(2 * np.pi * train_df['hour']/24)\n",
    "\n",
    "# Month\n",
    "train_df['month_sin'] = np.sin(2 * np.pi * train_df['month']/12)\n",
    "train_df['month_cos'] = np.cos(2 * np.pi * train_df['month']/12)\n",
    "train_df = train_df.dropna().reset_index(drop=True)\n",
    "# Previous hour values\n",
    "test_df['Wind_Speed_prev_1h'] = test_df['Wind Speed (km/h)'].shift(1)\n",
    "test_df['Temperature_prev_1h'] = test_df['Temperature (C)'].shift(1)\n",
    "test_df['Humidity_prev_1h'] = test_df['Humidity'].shift(1)\n",
    "test_df['Pressure_prev_1h'] = test_df['Pressure (millibars)'].shift(1)\n",
    "test_df['Thunderstorm_prev_1h'] = test_df['thunderstorm'].shift(1)\n",
    "# Rolling mean of last 3 hours\n",
    "test_df['Wind_Speed_roll3h'] = test_df['Wind Speed (km/h)'].shift(1).rolling(3).mean()\n",
    "test_df['Temperature_roll3h'] = test_df['Temperature (C)'].shift(1).rolling(3).mean()\n",
    "# Hour\n",
    "test_df['hour_sin'] = np.sin(2 * np.pi * test_df['hour']/24)\n",
    "test_df['hour_cos'] = np.cos(2 * np.pi * test_df['hour']/24)\n",
    "\n",
    "# Month\n",
    "test_df['month_sin'] = np.sin(2 * np.pi * test_df['month']/12)\n",
    "test_df['month_cos'] = np.cos(2 * np.pi * test_df['month']/12)\n",
    "test_df = test_df.dropna().reset_index(drop=True)\n",
    "\n",
    "\n",
    "\n",
    "\n",
    "\n",
    "# Previous hour values\n",
    "val_df['Wind_Speed_prev_1h'] = val_df['Wind Speed (km/h)'].shift(1)\n",
    "val_df['Temperature_prev_1h'] = val_df['Temperature (C)'].shift(1)\n",
    "val_df['Humidity_prev_1h'] = val_df['Humidity'].shift(1)\n",
    "val_df['Pressure_prev_1h'] = val_df['Pressure (millibars)'].shift(1)\n",
    "val_df['Thunderstorm_prev_1h'] = val_df['thunderstorm'].shift(1)\n",
    "# Rolling mean of last 3 hours\n",
    "val_df['Wind_Speed_roll3h'] = val_df['Wind Speed (km/h)'].shift(1).rolling(3).mean()\n",
    "val_df['Temperature_roll3h'] = val_df['Temperature (C)'].shift(1).rolling(3).mean()\n",
    "# Hour\n",
    "val_df['hour_sin'] = np.sin(2 * np.pi * val_df['hour']/24)\n",
    "val_df['hour_cos'] = np.cos(2 * np.pi * val_df['hour']/24)\n",
    "\n",
    "# Month\n",
    "val_df['month_sin'] = np.sin(2 * np.pi * val_df['month']/12)\n",
    "val_df['month_cos'] = np.cos(2 * np.pi * val_df['month']/12)\n",
    "val_df = val_df.dropna().reset_index(drop=True)\n",
    "\n"
   ]
  },
  {
   "cell_type": "code",
   "execution_count": null,
   "id": "5d0c5842-5d28-4af3-a6ee-f319355e248b",
   "metadata": {},
   "outputs": [],
   "source": [
    "train_df.info()"
   ]
  },
  {
   "cell_type": "code",
   "execution_count": null,
   "id": "47c381fd-6da1-4d4d-9003-1d42b482c027",
   "metadata": {},
   "outputs": [],
   "source": [
    "test_df.info()"
   ]
  },
  {
   "cell_type": "code",
   "execution_count": null,
   "id": "9379e5dd-5978-4959-bba4-01340218329f",
   "metadata": {},
   "outputs": [],
   "source": [
    "val_df.info()"
   ]
  },
  {
   "cell_type": "code",
   "execution_count": null,
   "id": "0c7cf2dc-9001-45a9-9fbf-55276c74101e",
   "metadata": {},
   "outputs": [],
   "source": [
    "numerical_features = [\n",
    "    'Temperature (C)',\n",
    "    'Apparent Temperature (C)',\n",
    "    'Humidity',\n",
    "    'Pressure (millibars)',\n",
    "    'Visibility (km)',\n",
    "    'Wind Bearing (degrees)',\n",
    "    # Lag features\n",
    "    'Wind_Speed_prev_1h',\n",
    "    'Temperature_prev_1h',\n",
    "    'Humidity_prev_1h',\n",
    "    'Pressure_prev_1h',\n",
    "    'Thunderstorm_prev_1h',\n",
    "    # Rolling averages\n",
    "    'Wind_Speed_roll3h',\n",
    "    'Temperature_roll3h',\n",
    "    # Cyclical time features\n",
    "    'hour_sin', 'hour_cos', 'month_sin', 'month_cos'\n",
    "]\n",
    "categorical_features = [\n",
    "    'Precip Type_snow'  # already one-hot encoded\n",
    "]\n",
    "feature_columns = numerical_features + categorical_features\n",
    "# For Wind Speed (Regression)\n",
    "X_wind = train_df[feature_columns]\n",
    "y_wind = train_df['Wind_Speed_next_hour']\n",
    "\n",
    "# For Thunderstorm (Classification)\n",
    "X_thunder = train_df[feature_columns]\n",
    "y_thunder = train_df['Thunderstorm_next_hour']\n"
   ]
  },
  {
   "cell_type": "code",
   "execution_count": null,
   "id": "af9e716f-df45-47d3-b399-c73e38edf006",
   "metadata": {},
   "outputs": [],
   "source": [
    "# for wind\n",
    "from sklearn.ensemble import RandomForestRegressor\n",
    "from sklearn.metrics import mean_squared_error, r2_score\n",
    "# for thunder\n",
    "from sklearn.ensemble import RandomForestClassifier\n",
    "from sklearn.metrics import accuracy_score, f1_score, confusion_matrix, classification_report\n",
    "\n",
    "model_wind=RandomForestRegressor(n_estimators=150,\n",
    "    max_depth=15,\n",
    "    min_samples_split=5,\n",
    "    min_samples_leaf=2,\n",
    "    max_features='sqrt',\n",
    "    random_state=42,\n",
    "    n_jobs=-1)\n",
    "model_wind.fit(X_wind,y_wind)\n"
   ]
  },
  {
   "cell_type": "code",
   "execution_count": null,
   "id": "f6902b64-7bf5-4406-8162-bce314c7b836",
   "metadata": {},
   "outputs": [],
   "source": [
    "model_thunder=RandomForestClassifier(   n_estimators=150,\n",
    "    max_depth=15,\n",
    "    min_samples_split=5,\n",
    "    min_samples_leaf=2,\n",
    "    max_features='sqrt',\n",
    "    class_weight='balanced',\n",
    "    random_state=42,\n",
    "    n_jobs=-1)\n",
    "model_thunder.fit(X_thunder,y_thunder)"
   ]
  },
  {
   "cell_type": "code",
   "execution_count": null,
   "id": "3c4e50a5-f7ae-47f0-a841-13271a77f64e",
   "metadata": {},
   "outputs": [],
   "source": [
    "val_df['Wind_Speed_next_hour']"
   ]
  },
  {
   "cell_type": "code",
   "execution_count": null,
   "id": "a76588f0-27f4-4823-b3db-d3d514c855fe",
   "metadata": {},
   "outputs": [],
   "source": [
    "pred_wind=model_wind.predict(val_df[feature_columns])\n",
    "pred\n",
    "pred_thunder=model_thunder.predict(val_df[feature_columns])"
   ]
  },
  {
   "cell_type": "code",
   "execution_count": null,
   "id": "f314687a-3ef4-41db-b224-8fa951a0df35",
   "metadata": {},
   "outputs": [],
   "source": [
    "from sklearn.metrics import mean_squared_error, mean_absolute_error, r2_score"
   ]
  },
  {
   "cell_type": "code",
   "execution_count": null,
   "id": "07f39d6b-d263-4934-aaea-7ce5a3b00c44",
   "metadata": {},
   "outputs": [],
   "source": [
    "mean_squared_error(y_wind,pred_wind,squared=False)"
   ]
  }
 ],
 "metadata": {
  "kernelspec": {
   "display_name": "Python 3 (ipykernel)",
   "language": "python",
   "name": "python3"
  },
  "language_info": {
   "codemirror_mode": {
    "name": "ipython",
    "version": 3
   },
   "file_extension": ".py",
   "mimetype": "text/x-python",
   "name": "python",
   "nbconvert_exporter": "python",
   "pygments_lexer": "ipython3",
   "version": "3.13.7"
  }
 },
 "nbformat": 4,
 "nbformat_minor": 5
}
