{
 "cells": [
  {
   "cell_type": "code",
   "execution_count": 153,
   "id": "520ce6a3-bcd7-4891-a844-9f85191a7e35",
   "metadata": {},
   "outputs": [
    {
     "name": "stdout",
     "output_type": "stream",
     "text": [
      "['Formatted Date', 'Temperature (C)', 'Apparent Temperature (C)', 'Humidity', 'Wind Speed (km/h)', 'Wind Bearing (degrees)', 'Visibility (km)', 'Pressure (millibars)', 'thunderstorm', 'Precip Type_snow']\n",
      "<class 'pandas.core.frame.DataFrame'>\n",
      "RangeIndex: 96453 entries, 0 to 96452\n",
      "Data columns (total 10 columns):\n",
      " #   Column                    Non-Null Count  Dtype  \n",
      "---  ------                    --------------  -----  \n",
      " 0   Formatted Date            96453 non-null  object \n",
      " 1   Temperature (C)           96453 non-null  float64\n",
      " 2   Apparent Temperature (C)  96453 non-null  float64\n",
      " 3   Humidity                  96453 non-null  float64\n",
      " 4   Wind Speed (km/h)         96453 non-null  float64\n",
      " 5   Wind Bearing (degrees)    96453 non-null  float64\n",
      " 6   Visibility (km)           96453 non-null  float64\n",
      " 7   Pressure (millibars)      96453 non-null  float64\n",
      " 8   thunderstorm              96453 non-null  int64  \n",
      " 9   Precip Type_snow          96453 non-null  bool   \n",
      "dtypes: bool(1), float64(7), int64(1), object(1)\n",
      "memory usage: 6.7+ MB\n",
      "None\n",
      "thunderstorm\n",
      "0    96205\n",
      "1      248\n",
      "Name: count, dtype: int64\n"
     ]
    },
    {
     "name": "stderr",
     "output_type": "stream",
     "text": [
      "C:\\Users\\BHAVYA\\AppData\\Local\\Temp\\ipykernel_21416\\1227142004.py:27: FutureWarning: A value is trying to be set on a copy of a DataFrame or Series through chained assignment using an inplace method.\n",
      "The behavior will change in pandas 3.0. This inplace method will never work because the intermediate object on which we are setting values always behaves as a copy.\n",
      "\n",
      "For example, when doing 'df[col].method(value, inplace=True)', try using 'df.method({col: value}, inplace=True)' or df[col] = df[col].method(value) instead, to perform the operation inplace on the original object.\n",
      "\n",
      "\n",
      "  df['Precip Type'].fillna(df['Precip Type'].mode()[0], inplace=True)\n"
     ]
    }
   ],
   "source": [
    "\n",
    "# Import libraries\n",
    "import pandas as pd\n",
    "import numpy as np\n",
    "import matplotlib.pyplot as plt\n",
    "import seaborn as sns\n",
    "import plotly.express as px\n",
    "\n",
    "# Read CSV\n",
    "df = pd.read_csv(\"../data/weatherHistory.csv\")\n",
    "\n",
    "# Strip column names to remove extra spaces\n",
    "df.columns = df.columns.str.strip()\n",
    "\n",
    "# Create thunderstorm column (synthetic)\n",
    "df['thunderstorm'] = np.where(\n",
    "    (df['Humidity'] > 0.85) & \n",
    "    (df['Wind Speed (km/h)'] > 25) & \n",
    "    (df['Pressure (millibars)'] < 1005),\n",
    "    1, 0\n",
    ")\n",
    "\n",
    "# Drop unnecessary columns\n",
    "df = df.drop(columns=['Summary', 'Daily Summary', 'Loud Cover'], errors='ignore')\n",
    "\n",
    "# Fill missing values in 'Precip Type' with mode\n",
    "if 'Precip Type' in df.columns:\n",
    "    df['Precip Type'].fillna(df['Precip Type'].mode()[0], inplace=True)\n",
    "    # One-hot encode\n",
    "    df = pd.get_dummies(df, columns=['Precip Type'], drop_first=True)\n",
    "\n",
    "# Display basic info\n",
    "print(df.columns.tolist())\n",
    "print(df.info())\n",
    "\n",
    "# Quick check of thunderstorm counts\n",
    "print(df['thunderstorm'].value_counts())\n"
   ]
  },
  {
   "cell_type": "code",
   "execution_count": 155,
   "id": "f08a8948-d8e0-4a6c-8627-23b21c46f06d",
   "metadata": {},
   "outputs": [
    {
     "data": {
      "text/plain": [
       "np.int64(248)"
      ]
     },
     "execution_count": 155,
     "metadata": {},
     "output_type": "execute_result"
    }
   ],
   "source": [
    " (df['thunderstorm'] == 1).sum()"
   ]
  },
  {
   "cell_type": "code",
   "execution_count": 157,
   "id": "fd7d627f-046a-46d3-8a59-bb9fb2a9c213",
   "metadata": {},
   "outputs": [
    {
     "name": "stdout",
     "output_type": "stream",
     "text": [
      "<class 'pandas.core.frame.DataFrame'>\n",
      "RangeIndex: 96453 entries, 0 to 96452\n",
      "Data columns (total 10 columns):\n",
      " #   Column                    Non-Null Count  Dtype  \n",
      "---  ------                    --------------  -----  \n",
      " 0   Formatted Date            96453 non-null  object \n",
      " 1   Temperature (C)           96453 non-null  float64\n",
      " 2   Apparent Temperature (C)  96453 non-null  float64\n",
      " 3   Humidity                  96453 non-null  float64\n",
      " 4   Wind Speed (km/h)         96453 non-null  float64\n",
      " 5   Wind Bearing (degrees)    96453 non-null  float64\n",
      " 6   Visibility (km)           96453 non-null  float64\n",
      " 7   Pressure (millibars)      96453 non-null  float64\n",
      " 8   thunderstorm              96453 non-null  int64  \n",
      " 9   Precip Type_snow          96453 non-null  bool   \n",
      "dtypes: bool(1), float64(7), int64(1), object(1)\n",
      "memory usage: 6.7+ MB\n"
     ]
    }
   ],
   "source": []
  }
 ],
 "metadata": {
  "kernelspec": {
   "display_name": "Python 3 (ipykernel)",
   "language": "python",
   "name": "python3"
  },
  "language_info": {
   "codemirror_mode": {
    "name": "ipython",
    "version": 3
   },
   "file_extension": ".py",
   "mimetype": "text/x-python",
   "name": "python",
   "nbconvert_exporter": "python",
   "pygments_lexer": "ipython3",
   "version": "3.13.7"
  }
 },
 "nbformat": 4,
 "nbformat_minor": 5
}
